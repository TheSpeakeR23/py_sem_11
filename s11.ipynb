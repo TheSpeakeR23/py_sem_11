{
 "cells": [
  {
   "cell_type": "code",
   "execution_count": 4,
   "id": "ef97c54c",
   "metadata": {},
   "outputs": [
    {
     "name": "stdout",
     "output_type": "stream",
     "text": [
      "Корни первой функции - -18*x**3 + 5*x**2 + 10*x - 30 равны ->\n"
     ]
    }
   ],
   "source": [
    "from sympy import *\n",
    "from sympy.plotting import plot\n",
    "\n",
    "x = Symbol(\"x\")\n",
    "\n",
    "f1 = -18 * x ** 3 + 5 * x ** 2 + 10 * x - 30\n",
    "\n",
    "f2 = 2 * x ** 3 + 2 * x ** 2 - 18 * x - 18\n",
    "\n",
    "f3 = (x ** 2 + 3) / (3 * (x + 1))\n",
    "\n",
    "# 1. Определить корни\n",
    "#    Нули функции\n",
    "\n",
    "solveset(f1, x)\n",
    "solveset(f3, x)\n",
    "\n",
    "print(f'Корни первой функции - {f1} равны ->')"
   ]
  },
  {
   "cell_type": "code",
   "execution_count": 3,
   "id": "f3ef3477",
   "metadata": {},
   "outputs": [
    {
     "data": {
      "text/latex": [
       "$\\displaystyle \\left\\{- \\frac{\\sqrt[3]{\\frac{5 \\sqrt{218931}}{108} + \\frac{127045}{5832}}}{3} - \\frac{565}{972 \\sqrt[3]{\\frac{5 \\sqrt{218931}}{108} + \\frac{127045}{5832}}} + \\frac{5}{54}, \\frac{565}{1944 \\sqrt[3]{\\frac{5 \\sqrt{218931}}{108} + \\frac{127045}{5832}}} + \\frac{5}{54} + \\frac{\\sqrt[3]{\\frac{5 \\sqrt{218931}}{108} + \\frac{127045}{5832}}}{6} + i \\left(- \\frac{565 \\sqrt{3}}{1944 \\sqrt[3]{\\frac{5 \\sqrt{218931}}{108} + \\frac{127045}{5832}}} + \\frac{\\sqrt{3} \\sqrt[3]{\\frac{5 \\sqrt{218931}}{108} + \\frac{127045}{5832}}}{6}\\right), \\frac{565}{1944 \\sqrt[3]{\\frac{5 \\sqrt{218931}}{108} + \\frac{127045}{5832}}} + \\frac{5}{54} + \\frac{\\sqrt[3]{\\frac{5 \\sqrt{218931}}{108} + \\frac{127045}{5832}}}{6} + i \\left(- \\frac{\\sqrt{3} \\sqrt[3]{\\frac{5 \\sqrt{218931}}{108} + \\frac{127045}{5832}}}{6} + \\frac{565 \\sqrt{3}}{1944 \\sqrt[3]{\\frac{5 \\sqrt{218931}}{108} + \\frac{127045}{5832}}}\\right)\\right\\}$"
      ],
      "text/plain": [
       "{-(5*sqrt(218931)/108 + 127045/5832)**(1/3)/3 - 565/(972*(5*sqrt(218931)/108 + 127045/5832)**(1/3)) + 5/54, 565/(1944*(5*sqrt(218931)/108 + 127045/5832)**(1/3)) + 5/54 + (5*sqrt(218931)/108 + 127045/5832)**(1/3)/6 + I*(-565*sqrt(3)/(1944*(5*sqrt(218931)/108 + 127045/5832)**(1/3)) + sqrt(3)*(5*sqrt(218931)/108 + 127045/5832)**(1/3)/6), 565/(1944*(5*sqrt(218931)/108 + 127045/5832)**(1/3)) + 5/54 + (5*sqrt(218931)/108 + 127045/5832)**(1/3)/6 + I*(-sqrt(3)*(5*sqrt(218931)/108 + 127045/5832)**(1/3)/6 + 565*sqrt(3)/(1944*(5*sqrt(218931)/108 + 127045/5832)**(1/3)))}"
      ]
     },
     "execution_count": 3,
     "metadata": {},
     "output_type": "execute_result"
    }
   ],
   "source": [
    "solveset(f1, x)"
   ]
  },
  {
   "cell_type": "code",
   "execution_count": 8,
   "id": "c6747b33",
   "metadata": {},
   "outputs": [
    {
     "name": "stdout",
     "output_type": "stream",
     "text": [
      "Корни второй функции - 2*x**3 + 2*x**2 - 18*x - 18 равны ->\n"
     ]
    },
    {
     "data": {
      "text/latex": [
       "$\\displaystyle \\left\\{-3, -1, 3\\right\\}$"
      ],
      "text/plain": [
       "{-3, -1, 3}"
      ]
     },
     "execution_count": 8,
     "metadata": {},
     "output_type": "execute_result"
    }
   ],
   "source": [
    "print(f'Корни второй функции - {f2} равны ->')\n",
    "solveset(f2, x)"
   ]
  },
  {
   "cell_type": "code",
   "execution_count": 9,
   "id": "7e140fc5",
   "metadata": {},
   "outputs": [
    {
     "name": "stdout",
     "output_type": "stream",
     "text": [
      "Корни третьей функции - (x**2 + 3)/(3*x + 3) равны ->\n"
     ]
    },
    {
     "data": {
      "text/latex": [
       "$\\displaystyle \\left\\{- \\sqrt{3} i, \\sqrt{3} i\\right\\}$"
      ],
      "text/plain": [
       "{-sqrt(3)*I, sqrt(3)*I}"
      ]
     },
     "execution_count": 9,
     "metadata": {},
     "output_type": "execute_result"
    }
   ],
   "source": [
    "print(f'Корни третьей функции - {f3} равны ->')\n",
    "solveset(f3, x)"
   ]
  },
  {
   "cell_type": "code",
   "execution_count": 14,
   "id": "4a13cadb",
   "metadata": {},
   "outputs": [],
   "source": [
    "# 2. Найти интервалы, на которых функция возрастает\n",
    "# 3. Найти интервалы, на которых функция убывает\n",
    "\n",
    "f_diff = [-oo, oo] \n",
    "f_diff[1:1] = solve(diff(f1), x)\n",
    "\n",
    "def FindInterval(f_diff,f):\n",
    "\n",
    "    incr_list = []\n",
    "    decr_list = []\n",
    "\n",
    "    for i in range(1, len(f_diff)):\n",
    "        val = is_increasing(f, Interval.open(f_diff[i - 1], f_diff[i]))\n",
    "        if val:\n",
    "            incr_list.append(f\"[{f_diff[i - 1]}, {f_diff[i]}]\")\n",
    "        else:\n",
    "            decr_list.append(f\"[{f_diff[i - 1]}, {f_diff[i]}]\")\n",
    "\n",
    "    print(f\"Функция {f} убывает на интервалах:\", *decr_list, sep=\"\\n\")\n",
    "    print(f\"Фунция {f} возрастает на интервалах:\", *incr_list, sep=\"\\n\")"
   ]
  },
  {
   "cell_type": "code",
   "execution_count": 15,
   "id": "375d88db",
   "metadata": {},
   "outputs": [
    {
     "name": "stdout",
     "output_type": "stream",
     "text": [
      "Функция -18*x**3 + 5*x**2 + 10*x - 30 убывает на интервалах:\n",
      "[-oo, 5/54 - sqrt(565)/54]\n",
      "[5/54 + sqrt(565)/54, oo]\n",
      "Фунция -18*x**3 + 5*x**2 + 10*x - 30 возрастает на интервалах:\n",
      "[5/54 - sqrt(565)/54, 5/54 + sqrt(565)/54]\n"
     ]
    }
   ],
   "source": [
    "FindInterval(f_diff,f1)"
   ]
  },
  {
   "cell_type": "code",
   "execution_count": 16,
   "id": "c3e3c625",
   "metadata": {},
   "outputs": [
    {
     "name": "stdout",
     "output_type": "stream",
     "text": [
      "Функция 2*x**3 + 2*x**2 - 18*x - 18 убывает на интервалах:\n",
      "[-oo, -1/3 + 2*sqrt(7)/3]\n",
      "[-2*sqrt(7)/3 - 1/3, oo]\n",
      "Фунция 2*x**3 + 2*x**2 - 18*x - 18 возрастает на интервалах:\n",
      "[-1/3 + 2*sqrt(7)/3, -2*sqrt(7)/3 - 1/3]\n"
     ]
    }
   ],
   "source": [
    "f_diff = [-oo, oo] \n",
    "f_diff[1:1] = solve(diff(f2), x)\n",
    "FindInterval(f_diff,f2)"
   ]
  },
  {
   "cell_type": "code",
   "execution_count": 17,
   "id": "e576fcd9",
   "metadata": {},
   "outputs": [
    {
     "name": "stdout",
     "output_type": "stream",
     "text": [
      "Функция (x**2 + 3)/(3*x + 3) убывает на интервалах:\n",
      "[-3, 1]\n",
      "Фунция (x**2 + 3)/(3*x + 3) возрастает на интервалах:\n",
      "[-oo, -3]\n",
      "[1, oo]\n"
     ]
    }
   ],
   "source": [
    "f_diff = [-oo, oo] \n",
    "f_diff[1:1] = solve(diff(f3), x)\n",
    "FindInterval(f_diff,f3)"
   ]
  },
  {
   "cell_type": "code",
   "execution_count": 19,
   "id": "7428ea79",
   "metadata": {},
   "outputs": [
    {
     "data": {
      "image/png": "[encoded data removed]",
      "text/plain": [
       "<Figure size 640x480 with 1 Axes>"
      ]
     },
     "metadata": {},
     "output_type": "display_data"
    },
    {
     "data": {
      "text/plain": [
       "<sympy.plotting.plot.Plot at 0x2070f1c9f70>"
      ]
     },
     "execution_count": 19,
     "metadata": {},
     "output_type": "execute_result"
    }
   ],
   "source": [
    " # 4. Построить график\n",
    "\n",
    "#plot(f1, (x, -5, 2.5), legend=True)\n",
    "plot(f1, (x, -5, 5),legend=True)"
   ]
  },
  {
   "cell_type": "code",
   "execution_count": 21,
   "id": "dfefaa22",
   "metadata": {},
   "outputs": [
    {
     "data": {
      "image/png": "[encoded data removed]",
      "text/plain": [
       "<Figure size 640x480 with 1 Axes>"
      ]
     },
     "metadata": {},
     "output_type": "display_data"
    },
    {
     "data": {
      "text/plain": [
       "<sympy.plotting.plot.Plot at 0x2070e91bb20>"
      ]
     },
     "execution_count": 21,
     "metadata": {},
     "output_type": "execute_result"
    }
   ],
   "source": [
    "plot(f2,legend=True)"
   ]
  },
  {
   "cell_type": "code",
   "execution_count": 24,
   "id": "59b8584b",
   "metadata": {},
   "outputs": [
    {
     "data": {
      "text/latex": [
       "$\\displaystyle \\frac{x^{2} + 3}{3 x + 3}$"
      ],
      "text/plain": [
       "(x**2 + 3)/(3*x + 3)"
      ]
     },
     "execution_count": 24,
     "metadata": {},
     "output_type": "execute_result"
    }
   ],
   "source": [
    "f3"
   ]
  },
  {
   "cell_type": "code",
   "execution_count": 28,
   "id": "baed22cf",
   "metadata": {},
   "outputs": [
    {
     "data": {
      "image/png": "[encoded data removed]",
      "text/plain": [
       "<Figure size 640x480 with 1 Axes>"
      ]
     },
     "metadata": {},
     "output_type": "display_data"
    }
   ],
   "source": [
    "fun1 = plot(f3,(x,-10,-1.1), show=False)\n",
    "fun2 = plot(f3,(x,-0.9,10), show=False)\n",
    "fun1.append(fun2[0])\n",
    "fun1.show()\n"
   ]
  },
  {
   "cell_type": "code",
   "execution_count": 30,
   "id": "5e398c80",
   "metadata": {},
   "outputs": [
    {
     "name": "stdout",
     "output_type": "stream",
     "text": [
      "Точка минимума: (x:5/54 - sqrt(565)/54, y:-785/27 - 5*sqrt(565)/27 + 5*(5/54 - sqrt(565)/54)**2 - 18*(5/54 - sqrt(565)/54)**3)\n",
      "Точка минимума: (x:5/54 + sqrt(565)/54, y:-785/27 - 18*(5/54 + sqrt(565)/54)**3 + 5*(5/54 + sqrt(565)/54)**2 + 5*sqrt(565)/27)\n"
     ]
    }
   ],
   "source": [
    "# 5. Вычислить вершину\n",
    "#    Экстремумы функции\n",
    "\n",
    "#ext_list = solve(diff(f), x)\n",
    "def ExtFun(ext_list,f):\n",
    "    \n",
    "    for i in ext_list:\n",
    "        res = f.subs(x, i)\n",
    "        if res < 0:\n",
    "            print(f\"Точка минимума: (x:{i}, y:{res})\")\n",
    "        elif res > 0:\n",
    "            print(f\"Точка максимума: (x:{i}, y:{res})\")\n",
    "\n",
    "ext_list = solve(diff(f1), x)\n",
    "\n",
    "ExtFun(ext_list,f1)"
   ]
  },
  {
   "cell_type": "code",
   "execution_count": 31,
   "id": "642988f3",
   "metadata": {},
   "outputs": [
    {
     "name": "stdout",
     "output_type": "stream",
     "text": [
      "Точка минимума: (x:-1/3 + 2*sqrt(7)/3, y:-12*sqrt(7) - 12 + 2*(-1/3 + 2*sqrt(7)/3)**2 + 2*(-1/3 + 2*sqrt(7)/3)**3)\n",
      "Точка максимума: (x:-2*sqrt(7)/3 - 1/3, y:2*(-2*sqrt(7)/3 - 1/3)**3 - 12 + 2*(-2*sqrt(7)/3 - 1/3)**2 + 12*sqrt(7))\n"
     ]
    }
   ],
   "source": [
    "ext_list = solve(diff(f2), x)\n",
    "ExtFun(ext_list,f2)"
   ]
  },
  {
   "cell_type": "code",
   "execution_count": 32,
   "id": "457567e3",
   "metadata": {},
   "outputs": [
    {
     "name": "stdout",
     "output_type": "stream",
     "text": [
      "Точка минимума: (x:-3, y:-2)\n",
      "Точка максимума: (x:1, y:2/3)\n"
     ]
    }
   ],
   "source": [
    "ext_list = solve(diff(f3), x)\n",
    "ExtFun(ext_list,f3)"
   ]
  },
  {
   "cell_type": "code",
   "execution_count": 36,
   "id": "e88fcc57",
   "metadata": {},
   "outputs": [
    {
     "name": "stdout",
     "output_type": "stream",
     "text": [
      "f > 0:\n",
      "f < 0:\n",
      "[-oo, 5/54 - 565/(972*(-1/2 - sqrt(3)*I/2)*(5*sqrt(218931)/108 + 127045/5832)**(1/3)) - (-1/2 - sqrt(3)*I/2)*(5*sqrt(218931)/108 + 127045/5832)**(1/3)/3]\n",
      "[5/54 - 565/(972*(-1/2 - sqrt(3)*I/2)*(5*sqrt(218931)/108 + 127045/5832)**(1/3)) - (-1/2 - sqrt(3)*I/2)*(5*sqrt(218931)/108 + 127045/5832)**(1/3)/3, 5/54 - (-1/2 + sqrt(3)*I/2)*(5*sqrt(218931)/108 + 127045/5832)**(1/3)/3 - 565/(972*(-1/2 + sqrt(3)*I/2)*(5*sqrt(218931)/108 + 127045/5832)**(1/3))]\n",
      "[5/54 - (-1/2 + sqrt(3)*I/2)*(5*sqrt(218931)/108 + 127045/5832)**(1/3)/3 - 565/(972*(-1/2 + sqrt(3)*I/2)*(5*sqrt(218931)/108 + 127045/5832)**(1/3)), -(5*sqrt(218931)/108 + 127045/5832)**(1/3)/3 - 565/(972*(5*sqrt(218931)/108 + 127045/5832)**(1/3)) + 5/54]\n",
      "[-(5*sqrt(218931)/108 + 127045/5832)**(1/3)/3 - 565/(972*(5*sqrt(218931)/108 + 127045/5832)**(1/3)) + 5/54, oo]\n"
     ]
    }
   ],
   "source": [
    "# 6. Определить промежутки, на котором f > 0\n",
    "# 7. Определить промежутки, на котором f < 0\n",
    "#    Знакопостоянства функции\n",
    "#    https://openvorkuta.ru/chto-takoe-promezhutki-zakona-postoianstva\n",
    "\n",
    "\n",
    "def IncDecrFunc(roots_fun,f):\n",
    "\n",
    "    incr_list = []\n",
    "    decr_list = []\n",
    "\n",
    "    for i in range(1, len(roots_fun)):\n",
    "        num_1, num_2 = roots_fun[i - 1], roots_fun[i]\n",
    "        val = is_increasing(f, Interval.open(num_1, num_2))\n",
    "        if val:\n",
    "            incr_list.append(f\"[{num_1}, {num_2}]\")\n",
    "        else:\n",
    "            decr_list.append(f\"[{num_1}, {num_2}]\")\n",
    "\n",
    "    print(\"f > 0:\", *incr_list, sep=\"\\n\")\n",
    "    print(\"f < 0:\", *decr_list, sep=\"\\n\")\n",
    "    \n",
    "\n",
    "roots_fun = [-oo, oo]\n",
    "roots_fun[1:1] = solve(f1, x)\n",
    "\n",
    "IncDecrFunc(roots_fun,f1)"
   ]
  },
  {
   "cell_type": "code",
   "execution_count": 37,
   "id": "8bd8080e",
   "metadata": {},
   "outputs": [
    {
     "name": "stdout",
     "output_type": "stream",
     "text": [
      "f > 0:\n",
      "[-oo, -3]\n",
      "[3, oo]\n",
      "f < 0:\n",
      "[-3, -1]\n",
      "[-1, 3]\n"
     ]
    }
   ],
   "source": [
    "roots_fun = [-oo, oo]\n",
    "roots_fun[1:1] = solve(f2, x)\n",
    "\n",
    "IncDecrFunc(roots_fun,f2)"
   ]
  },
  {
   "cell_type": "code",
   "execution_count": 41,
   "id": "06aa5cc8",
   "metadata": {},
   "outputs": [
    {
     "data": {
      "image/png": "[encoded data removed]",
      "text/plain": [
       "<Figure size 640x480 with 1 Axes>"
      ]
     },
     "metadata": {},
     "output_type": "display_data"
    },
    {
     "data": {
      "text/plain": [
       "<sympy.plotting.plot.Plot at 0x2070fd97b50>"
      ]
     },
     "execution_count": 41,
     "metadata": {},
     "output_type": "execute_result"
    }
   ],
   "source": [
    "plot(f2)"
   ]
  },
  {
   "cell_type": "code",
   "execution_count": null,
   "id": "b6b15909",
   "metadata": {},
   "outputs": [],
   "source": [
    "roots_fun = [-oo, oo]\n",
    "roots_fun[1:1] = solve(f3, x)\n",
    "\n",
    "IncDecrFunc(roots_fun,f3)"
   ]
  },
  {
   "cell_type": "code",
   "execution_count": null,
   "id": "23b4526f",
   "metadata": {},
   "outputs": [],
   "source": []
  },
  {
   "cell_type": "code",
   "execution_count": null,
   "id": "9fed465c",
   "metadata": {},
   "outputs": [],
   "source": []
  },
  {
   "cell_type": "code",
   "execution_count": null,
   "id": "b133bf7d",
   "metadata": {},
   "outputs": [],
   "source": []
  },
  {
   "cell_type": "code",
   "execution_count": null,
   "id": "94fbc14f",
   "metadata": {},
   "outputs": [],
   "source": []
  },
  {
   "cell_type": "code",
   "execution_count": null,
   "id": "65b6763c",
   "metadata": {},
   "outputs": [],
   "source": []
  },
  {
   "cell_type": "code",
   "execution_count": null,
   "id": "84a0fd38",
   "metadata": {},
   "outputs": [],
   "source": []
  },
  {
   "cell_type": "code",
   "execution_count": null,
   "id": "e72f6cd8",
   "metadata": {},
   "outputs": [],
   "source": []
  },
  {
   "cell_type": "code",
   "execution_count": null,
   "id": "72804abb",
   "metadata": {},
   "outputs": [],
   "source": []
  },
  {
   "cell_type": "code",
   "execution_count": null,
   "id": "c69a577d",
   "metadata": {},
   "outputs": [],
   "source": []
  },
  {
   "cell_type": "code",
   "execution_count": null,
   "id": "e9b3b840",
   "metadata": {},
   "outputs": [],
   "source": []
  },
  {
   "cell_type": "code",
   "execution_count": null,
   "id": "59a3baa0",
   "metadata": {},
   "outputs": [],
   "source": []
  },
  {
   "cell_type": "code",
   "execution_count": null,
   "id": "b2e3c91f",
   "metadata": {},
   "outputs": [],
   "source": []
  },
  {
   "cell_type": "code",
   "execution_count": null,
   "id": "01b5de58",
   "metadata": {},
   "outputs": [],
   "source": []
  },
  {
   "cell_type": "code",
   "execution_count": null,
   "id": "e1485a7f",
   "metadata": {},
   "outputs": [],
   "source": []
  },
  {
   "cell_type": "code",
   "execution_count": null,
   "id": "c453646d",
   "metadata": {},
   "outputs": [],
   "source": []
  },
  {
   "cell_type": "code",
   "execution_count": null,
   "id": "c02ec6eb",
   "metadata": {},
   "outputs": [],
   "source": []
  },
  {
   "cell_type": "code",
   "execution_count": null,
   "id": "7aeef323",
   "metadata": {},
   "outputs": [],
   "source": []
  },
  {
   "cell_type": "code",
   "execution_count": null,
   "id": "bd582505",
   "metadata": {},
   "outputs": [],
   "source": []
  },
  {
   "cell_type": "code",
   "execution_count": null,
   "id": "ef8d4373",
   "metadata": {},
   "outputs": [],
   "source": []
  }
 ],
 "metadata": {
  "kernelspec": {
   "display_name": "Python 3 (ipykernel)",
   "language": "python",
   "name": "python3"
  },
  "language_info": {
   "codemirror_mode": {
    "name": "ipython",
    "version": 3
   },
   "file_extension": ".py",
   "mimetype": "text/x-python",
   "name": "python",
   "nbconvert_exporter": "python",
   "pygments_lexer": "ipython3",
   "version": "3.9.13"
  }
 },
 "nbformat": 4,
 "nbformat_minor": 5
}
